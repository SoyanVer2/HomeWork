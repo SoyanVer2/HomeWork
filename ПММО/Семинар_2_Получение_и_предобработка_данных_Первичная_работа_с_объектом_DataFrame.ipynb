{
  "nbformat": 4,
  "nbformat_minor": 0,
  "metadata": {
    "colab": {
      "provenance": [],
      "collapsed_sections": [
        "8zaO26nO6_HN"
      ]
    },
    "kernelspec": {
      "name": "python3",
      "display_name": "Python 3"
    },
    "language_info": {
      "name": "python"
    }
  },
  "cells": [
    {
      "cell_type": "markdown",
      "source": [
        "# Семинар 2. Получение и предобработка данных. Первичная работа с объектом DataFrame. Описательная статистика. Анализ данных с помощью Pandas"
      ],
      "metadata": {
        "id": "UbcJMgtIHOv5"
      }
    },
    {
      "cell_type": "markdown",
      "source": [
        "## Датасет Нобелевские лауреаты\n",
        "Ссылка: https://dataverse.harvard.edu/dataset.xhtml?persistentId=doi:10.7910/DVN/6NJ5RN#"
      ],
      "metadata": {
        "id": "8zaO26nO6_HN"
      }
    },
    {
      "cell_type": "code",
      "source": [
        "!pip install gdown"
      ],
      "metadata": {
        "id": "-UW_9dgs6LuY",
        "colab": {
          "base_uri": "https://localhost:8080/"
        },
        "outputId": "16d360c7-1054-48ce-c543-423d317a8862"
      },
      "execution_count": 1,
      "outputs": [
        {
          "output_type": "stream",
          "name": "stdout",
          "text": [
            "Requirement already satisfied: gdown in /usr/local/lib/python3.10/dist-packages (5.2.0)\n",
            "Requirement already satisfied: beautifulsoup4 in /usr/local/lib/python3.10/dist-packages (from gdown) (4.12.3)\n",
            "Requirement already satisfied: filelock in /usr/local/lib/python3.10/dist-packages (from gdown) (3.16.1)\n",
            "Requirement already satisfied: requests[socks] in /usr/local/lib/python3.10/dist-packages (from gdown) (2.32.3)\n",
            "Requirement already satisfied: tqdm in /usr/local/lib/python3.10/dist-packages (from gdown) (4.66.5)\n",
            "Requirement already satisfied: soupsieve>1.2 in /usr/local/lib/python3.10/dist-packages (from beautifulsoup4->gdown) (2.6)\n",
            "Requirement already satisfied: charset-normalizer<4,>=2 in /usr/local/lib/python3.10/dist-packages (from requests[socks]->gdown) (3.3.2)\n",
            "Requirement already satisfied: idna<4,>=2.5 in /usr/local/lib/python3.10/dist-packages (from requests[socks]->gdown) (3.10)\n",
            "Requirement already satisfied: urllib3<3,>=1.21.1 in /usr/local/lib/python3.10/dist-packages (from requests[socks]->gdown) (2.2.3)\n",
            "Requirement already satisfied: certifi>=2017.4.17 in /usr/local/lib/python3.10/dist-packages (from requests[socks]->gdown) (2024.8.30)\n",
            "Requirement already satisfied: PySocks!=1.5.7,>=1.5.6 in /usr/local/lib/python3.10/dist-packages (from requests[socks]->gdown) (1.7.1)\n"
          ]
        }
      ]
    },
    {
      "cell_type": "code",
      "source": [
        "import gdown\n",
        "\n",
        "url = 'https://drive.google.com/file/d/1aS71SzAA_t-94P7bUl1kcJ-SlPBP0YEZ/view?usp=sharing'\n",
        "output_path = 'prize_winning_paper_record.csv'\n",
        "gdown.download(url, output_path, quiet=False, fuzzy=True)"
      ],
      "metadata": {
        "id": "RDJaCcey6LO6",
        "colab": {
          "base_uri": "https://localhost:8080/",
          "height": 105
        },
        "outputId": "7511c1d9-684f-4b22-d16e-b28a21850afe"
      },
      "execution_count": 2,
      "outputs": [
        {
          "output_type": "stream",
          "name": "stderr",
          "text": [
            "Downloading...\n",
            "From: https://drive.google.com/uc?id=1aS71SzAA_t-94P7bUl1kcJ-SlPBP0YEZ\n",
            "To: /content/prize_winning_paper_record.csv\n",
            "100%|██████████| 115k/115k [00:00<00:00, 30.2MB/s]\n"
          ]
        },
        {
          "output_type": "execute_result",
          "data": {
            "text/plain": [
              "'prize_winning_paper_record.csv'"
            ],
            "application/vnd.google.colaboratory.intrinsic+json": {
              "type": "string"
            }
          },
          "metadata": {},
          "execution_count": 2
        }
      ]
    },
    {
      "cell_type": "code",
      "source": [
        "url = 'https://drive.google.com/file/d/1eevgzsrYXv78Muv_QDe1ghXoEDHsf2dD/view?usp=sharing'\n",
        "output_path = 'physics_publication_record.tab'\n",
        "gdown.download(url, output_path, quiet=False, fuzzy=True)"
      ],
      "metadata": {
        "id": "tdShjYFw6fVM",
        "colab": {
          "base_uri": "https://localhost:8080/",
          "height": 105
        },
        "outputId": "9b70ebe7-d436-4461-d252-91c7512a491e"
      },
      "execution_count": 3,
      "outputs": [
        {
          "output_type": "stream",
          "name": "stderr",
          "text": [
            "Downloading...\n",
            "From: https://drive.google.com/uc?id=1eevgzsrYXv78Muv_QDe1ghXoEDHsf2dD\n",
            "To: /content/physics_publication_record.tab\n",
            "100%|██████████| 4.20M/4.20M [00:00<00:00, 94.0MB/s]\n"
          ]
        },
        {
          "output_type": "execute_result",
          "data": {
            "text/plain": [
              "'physics_publication_record.tab'"
            ],
            "application/vnd.google.colaboratory.intrinsic+json": {
              "type": "string"
            }
          },
          "metadata": {},
          "execution_count": 3
        }
      ]
    },
    {
      "cell_type": "markdown",
      "source": [
        "## Предобработка данных"
      ],
      "metadata": {
        "id": "InP4k-hp63-E"
      }
    },
    {
      "cell_type": "markdown",
      "source": [
        "[Pandas documentation](https://pandas.pydata.org/pandas-docs/stable/)"
      ],
      "metadata": {
        "id": "9o2zUYdCLzmF"
      }
    },
    {
      "cell_type": "code",
      "source": [
        "import pandas as pd"
      ],
      "metadata": {
        "id": "18-b6Xn33THP"
      },
      "execution_count": 4,
      "outputs": []
    },
    {
      "cell_type": "code",
      "source": [
        "# Загрузка датасета\n",
        "df = pd.read_csv('/content/physics_publication_record.tab', sep='\\t')"
      ],
      "metadata": {
        "id": "Zf1ps0dh3oI5"
      },
      "execution_count": 5,
      "outputs": []
    },
    {
      "cell_type": "code",
      "source": [
        "type(df)"
      ],
      "metadata": {
        "id": "1yff2Zs-QlhV",
        "colab": {
          "base_uri": "https://localhost:8080/",
          "height": 203
        },
        "outputId": "aab3029d-81a3-4240-cbb2-67c466fa57bf"
      },
      "execution_count": 6,
      "outputs": [
        {
          "output_type": "execute_result",
          "data": {
            "text/plain": [
              "pandas.core.frame.DataFrame"
            ],
            "text/html": [
              "<div style=\"max-width:800px; border: 1px solid var(--colab-border-color);\"><style>\n",
              "      pre.function-repr-contents {\n",
              "        overflow-x: auto;\n",
              "        padding: 8px 12px;\n",
              "        max-height: 500px;\n",
              "      }\n",
              "\n",
              "      pre.function-repr-contents.function-repr-contents-collapsed {\n",
              "        cursor: pointer;\n",
              "        max-height: 100px;\n",
              "      }\n",
              "    </style>\n",
              "    <pre style=\"white-space: initial; background:\n",
              "         var(--colab-secondary-surface-color); padding: 8px 12px;\n",
              "         border-bottom: 1px solid var(--colab-border-color);\"><b>pandas.core.frame.DataFrame</b><br/>def __init__(data=None, index: Axes | None=None, columns: Axes | None=None, dtype: Dtype | None=None, copy: bool | None=None) -&gt; None</pre><pre class=\"function-repr-contents function-repr-contents-collapsed\" style=\"\"><a class=\"filepath\" style=\"display:none\" href=\"#\">/usr/local/lib/python3.10/dist-packages/pandas/core/frame.py</a>Two-dimensional, size-mutable, potentially heterogeneous tabular data.\n",
              "\n",
              "Data structure also contains labeled axes (rows and columns).\n",
              "Arithmetic operations align on both row and column labels. Can be\n",
              "thought of as a dict-like container for Series objects. The primary\n",
              "pandas data structure.\n",
              "\n",
              "Parameters\n",
              "----------\n",
              "data : ndarray (structured or homogeneous), Iterable, dict, or DataFrame\n",
              "    Dict can contain Series, arrays, constants, dataclass or list-like objects. If\n",
              "    data is a dict, column order follows insertion-order. If a dict contains Series\n",
              "    which have an index defined, it is aligned by its index. This alignment also\n",
              "    occurs if data is a Series or a DataFrame itself. Alignment is done on\n",
              "    Series/DataFrame inputs.\n",
              "\n",
              "    If data is a list of dicts, column order follows insertion-order.\n",
              "\n",
              "index : Index or array-like\n",
              "    Index to use for resulting frame. Will default to RangeIndex if\n",
              "    no indexing information part of input data and no index provided.\n",
              "columns : Index or array-like\n",
              "    Column labels to use for resulting frame when data does not have them,\n",
              "    defaulting to RangeIndex(0, 1, 2, ..., n). If data contains column labels,\n",
              "    will perform column selection instead.\n",
              "dtype : dtype, default None\n",
              "    Data type to force. Only a single dtype is allowed. If None, infer.\n",
              "copy : bool or None, default None\n",
              "    Copy data from inputs.\n",
              "    For dict data, the default of None behaves like ``copy=True``.  For DataFrame\n",
              "    or 2d ndarray input, the default of None behaves like ``copy=False``.\n",
              "    If data is a dict containing one or more Series (possibly of different dtypes),\n",
              "    ``copy=False`` will ensure that these inputs are not copied.\n",
              "\n",
              "    .. versionchanged:: 1.3.0\n",
              "\n",
              "See Also\n",
              "--------\n",
              "DataFrame.from_records : Constructor from tuples, also record arrays.\n",
              "DataFrame.from_dict : From dicts of Series, arrays, or dicts.\n",
              "read_csv : Read a comma-separated values (csv) file into DataFrame.\n",
              "read_table : Read general delimited file into DataFrame.\n",
              "read_clipboard : Read text from clipboard into DataFrame.\n",
              "\n",
              "Notes\n",
              "-----\n",
              "Please reference the :ref:`User Guide &lt;basics.dataframe&gt;` for more information.\n",
              "\n",
              "Examples\n",
              "--------\n",
              "Constructing DataFrame from a dictionary.\n",
              "\n",
              "&gt;&gt;&gt; d = {&#x27;col1&#x27;: [1, 2], &#x27;col2&#x27;: [3, 4]}\n",
              "&gt;&gt;&gt; df = pd.DataFrame(data=d)\n",
              "&gt;&gt;&gt; df\n",
              "   col1  col2\n",
              "0     1     3\n",
              "1     2     4\n",
              "\n",
              "Notice that the inferred dtype is int64.\n",
              "\n",
              "&gt;&gt;&gt; df.dtypes\n",
              "col1    int64\n",
              "col2    int64\n",
              "dtype: object\n",
              "\n",
              "To enforce a single dtype:\n",
              "\n",
              "&gt;&gt;&gt; df = pd.DataFrame(data=d, dtype=np.int8)\n",
              "&gt;&gt;&gt; df.dtypes\n",
              "col1    int8\n",
              "col2    int8\n",
              "dtype: object\n",
              "\n",
              "Constructing DataFrame from a dictionary including Series:\n",
              "\n",
              "&gt;&gt;&gt; d = {&#x27;col1&#x27;: [0, 1, 2, 3], &#x27;col2&#x27;: pd.Series([2, 3], index=[2, 3])}\n",
              "&gt;&gt;&gt; pd.DataFrame(data=d, index=[0, 1, 2, 3])\n",
              "   col1  col2\n",
              "0     0   NaN\n",
              "1     1   NaN\n",
              "2     2   2.0\n",
              "3     3   3.0\n",
              "\n",
              "Constructing DataFrame from numpy ndarray:\n",
              "\n",
              "&gt;&gt;&gt; df2 = pd.DataFrame(np.array([[1, 2, 3], [4, 5, 6], [7, 8, 9]]),\n",
              "...                    columns=[&#x27;a&#x27;, &#x27;b&#x27;, &#x27;c&#x27;])\n",
              "&gt;&gt;&gt; df2\n",
              "   a  b  c\n",
              "0  1  2  3\n",
              "1  4  5  6\n",
              "2  7  8  9\n",
              "\n",
              "Constructing DataFrame from a numpy ndarray that has labeled columns:\n",
              "\n",
              "&gt;&gt;&gt; data = np.array([(1, 2, 3), (4, 5, 6), (7, 8, 9)],\n",
              "...                 dtype=[(&quot;a&quot;, &quot;i4&quot;), (&quot;b&quot;, &quot;i4&quot;), (&quot;c&quot;, &quot;i4&quot;)])\n",
              "&gt;&gt;&gt; df3 = pd.DataFrame(data, columns=[&#x27;c&#x27;, &#x27;a&#x27;])\n",
              "...\n",
              "&gt;&gt;&gt; df3\n",
              "   c  a\n",
              "0  3  1\n",
              "1  6  4\n",
              "2  9  7\n",
              "\n",
              "Constructing DataFrame from dataclass:\n",
              "\n",
              "&gt;&gt;&gt; from dataclasses import make_dataclass\n",
              "&gt;&gt;&gt; Point = make_dataclass(&quot;Point&quot;, [(&quot;x&quot;, int), (&quot;y&quot;, int)])\n",
              "&gt;&gt;&gt; pd.DataFrame([Point(0, 0), Point(0, 3), Point(2, 3)])\n",
              "   x  y\n",
              "0  0  0\n",
              "1  0  3\n",
              "2  2  3\n",
              "\n",
              "Constructing DataFrame from Series/DataFrame:\n",
              "\n",
              "&gt;&gt;&gt; ser = pd.Series([1, 2, 3], index=[&quot;a&quot;, &quot;b&quot;, &quot;c&quot;])\n",
              "&gt;&gt;&gt; df = pd.DataFrame(data=ser, index=[&quot;a&quot;, &quot;c&quot;])\n",
              "&gt;&gt;&gt; df\n",
              "   0\n",
              "a  1\n",
              "c  3\n",
              "\n",
              "&gt;&gt;&gt; df1 = pd.DataFrame([1, 2, 3], index=[&quot;a&quot;, &quot;b&quot;, &quot;c&quot;], columns=[&quot;x&quot;])\n",
              "&gt;&gt;&gt; df2 = pd.DataFrame(data=df1, index=[&quot;a&quot;, &quot;c&quot;])\n",
              "&gt;&gt;&gt; df2\n",
              "   x\n",
              "a  1\n",
              "c  3</pre>\n",
              "      <script>\n",
              "      if (google.colab.kernel.accessAllowed && google.colab.files && google.colab.files.view) {\n",
              "        for (const element of document.querySelectorAll('.filepath')) {\n",
              "          element.style.display = 'block'\n",
              "          element.onclick = (event) => {\n",
              "            event.preventDefault();\n",
              "            event.stopPropagation();\n",
              "            google.colab.files.view(element.textContent, 509);\n",
              "          };\n",
              "        }\n",
              "      }\n",
              "      for (const element of document.querySelectorAll('.function-repr-contents')) {\n",
              "        element.onclick = (event) => {\n",
              "          event.preventDefault();\n",
              "          event.stopPropagation();\n",
              "          element.classList.toggle('function-repr-contents-collapsed');\n",
              "        };\n",
              "      }\n",
              "      </script>\n",
              "      </div>"
            ]
          },
          "metadata": {},
          "execution_count": 6
        }
      ]
    },
    {
      "cell_type": "code",
      "source": [
        "df"
      ],
      "metadata": {
        "id": "Wt7LkDgX3zWy",
        "colab": {
          "base_uri": "https://localhost:8080/",
          "height": 947
        },
        "outputId": "a76f7bec-e3eb-4479-d74b-eb55ef26b2c3"
      },
      "execution_count": 7,
      "outputs": [
        {
          "output_type": "execute_result",
          "data": {
            "text/plain": [
              "       Laureate ID Laureate name  Prize year  \\\n",
              "0            10001  thouless, dj        2016   \n",
              "1            10001  thouless, dj        2016   \n",
              "2            10001  thouless, dj        2016   \n",
              "3            10001  thouless, dj        2016   \n",
              "4            10001  thouless, dj        2016   \n",
              "...            ...           ...         ...   \n",
              "21499        10193     zeeman, p        1902   \n",
              "21500        10193     zeeman, p        1902   \n",
              "21501        10193     zeeman, p        1902   \n",
              "21502        10193     zeeman, p        1902   \n",
              "21503        10193     zeeman, p        1902   \n",
              "\n",
              "                                                   Title  Pub year  \\\n",
              "0      ordering metastability and phase transitions i...    1973.0   \n",
              "1      metastability and phase transitions in two dim...    1973.0   \n",
              "2      from feynman s wave function to the effective ...    1994.0   \n",
              "3      pairing instability and mechanical collapse of...    2002.0   \n",
              "4      quantum hall effect current distribution and t...    1997.0   \n",
              "...                                                  ...       ...   \n",
              "21499  The Effect of Magnetisation on the Nature of L...    1897.0   \n",
              "21500  The Influence of a Magnetic Field on Radiation...    1896.0   \n",
              "21501                  zur hyperfeinstruktur des wismuts    1930.0   \n",
              "21502  on the spectrum of ionised potassium in connex...    1924.0   \n",
              "21503  on a connexion between the spectra of argon an...    1925.0   \n",
              "\n",
              "           Paper ID                            DOI  \\\n",
              "0      2.086860e+09      10.1088/0022-3719/6/7/010   \n",
              "1      1.037496e+08                            NaN   \n",
              "2      1.967118e+09    10.1103/PhysRevLett.72.1706   \n",
              "3      1.971620e+09     10.1103/PhysRevA.66.011603   \n",
              "4      1.972295e+09  10.1016/S0038-1098(96)00744-2   \n",
              "...             ...                            ...   \n",
              "21499           NaN                            NaN   \n",
              "21500           NaN                            NaN   \n",
              "21501  2.058955e+09             10.1007/BF01397521   \n",
              "21502  2.013742e+09               10.1038/114352a0   \n",
              "21503  2.033830e+09               10.1038/115116b0   \n",
              "\n",
              "                                        Journal               Affiliation  \\\n",
              "0      journal of physics c solid state physics  university of washington   \n",
              "1                                           NaN                       NaN   \n",
              "2                       physical review letters  university of washington   \n",
              "3                             physical review a  university of washington   \n",
              "4                    solid state communications  university of washington   \n",
              "...                                         ...                       ...   \n",
              "21499                                       NaN                       NaN   \n",
              "21500                                       NaN                       NaN   \n",
              "21501                 european physical journal                       NaN   \n",
              "21502                                    nature   university of amsterdam   \n",
              "21503                                    nature   university of amsterdam   \n",
              "\n",
              "      Is prize-winning paper  \n",
              "0                        YES  \n",
              "1                         NO  \n",
              "2                         NO  \n",
              "3                         NO  \n",
              "4                         NO  \n",
              "...                      ...  \n",
              "21499                    YES  \n",
              "21500                    YES  \n",
              "21501                     NO  \n",
              "21502                     NO  \n",
              "21503                     NO  \n",
              "\n",
              "[21504 rows x 10 columns]"
            ],
            "text/html": [
              "\n",
              "  <div id=\"df-15a7cfef-bf6c-4f5f-9930-1d3fe44e209e\" class=\"colab-df-container\">\n",
              "    <div>\n",
              "<style scoped>\n",
              "    .dataframe tbody tr th:only-of-type {\n",
              "        vertical-align: middle;\n",
              "    }\n",
              "\n",
              "    .dataframe tbody tr th {\n",
              "        vertical-align: top;\n",
              "    }\n",
              "\n",
              "    .dataframe thead th {\n",
              "        text-align: right;\n",
              "    }\n",
              "</style>\n",
              "<table border=\"1\" class=\"dataframe\">\n",
              "  <thead>\n",
              "    <tr style=\"text-align: right;\">\n",
              "      <th></th>\n",
              "      <th>Laureate ID</th>\n",
              "      <th>Laureate name</th>\n",
              "      <th>Prize year</th>\n",
              "      <th>Title</th>\n",
              "      <th>Pub year</th>\n",
              "      <th>Paper ID</th>\n",
              "      <th>DOI</th>\n",
              "      <th>Journal</th>\n",
              "      <th>Affiliation</th>\n",
              "      <th>Is prize-winning paper</th>\n",
              "    </tr>\n",
              "  </thead>\n",
              "  <tbody>\n",
              "    <tr>\n",
              "      <th>0</th>\n",
              "      <td>10001</td>\n",
              "      <td>thouless, dj</td>\n",
              "      <td>2016</td>\n",
              "      <td>ordering metastability and phase transitions i...</td>\n",
              "      <td>1973.0</td>\n",
              "      <td>2.086860e+09</td>\n",
              "      <td>10.1088/0022-3719/6/7/010</td>\n",
              "      <td>journal of physics c solid state physics</td>\n",
              "      <td>university of washington</td>\n",
              "      <td>YES</td>\n",
              "    </tr>\n",
              "    <tr>\n",
              "      <th>1</th>\n",
              "      <td>10001</td>\n",
              "      <td>thouless, dj</td>\n",
              "      <td>2016</td>\n",
              "      <td>metastability and phase transitions in two dim...</td>\n",
              "      <td>1973.0</td>\n",
              "      <td>1.037496e+08</td>\n",
              "      <td>NaN</td>\n",
              "      <td>NaN</td>\n",
              "      <td>NaN</td>\n",
              "      <td>NO</td>\n",
              "    </tr>\n",
              "    <tr>\n",
              "      <th>2</th>\n",
              "      <td>10001</td>\n",
              "      <td>thouless, dj</td>\n",
              "      <td>2016</td>\n",
              "      <td>from feynman s wave function to the effective ...</td>\n",
              "      <td>1994.0</td>\n",
              "      <td>1.967118e+09</td>\n",
              "      <td>10.1103/PhysRevLett.72.1706</td>\n",
              "      <td>physical review letters</td>\n",
              "      <td>university of washington</td>\n",
              "      <td>NO</td>\n",
              "    </tr>\n",
              "    <tr>\n",
              "      <th>3</th>\n",
              "      <td>10001</td>\n",
              "      <td>thouless, dj</td>\n",
              "      <td>2016</td>\n",
              "      <td>pairing instability and mechanical collapse of...</td>\n",
              "      <td>2002.0</td>\n",
              "      <td>1.971620e+09</td>\n",
              "      <td>10.1103/PhysRevA.66.011603</td>\n",
              "      <td>physical review a</td>\n",
              "      <td>university of washington</td>\n",
              "      <td>NO</td>\n",
              "    </tr>\n",
              "    <tr>\n",
              "      <th>4</th>\n",
              "      <td>10001</td>\n",
              "      <td>thouless, dj</td>\n",
              "      <td>2016</td>\n",
              "      <td>quantum hall effect current distribution and t...</td>\n",
              "      <td>1997.0</td>\n",
              "      <td>1.972295e+09</td>\n",
              "      <td>10.1016/S0038-1098(96)00744-2</td>\n",
              "      <td>solid state communications</td>\n",
              "      <td>university of washington</td>\n",
              "      <td>NO</td>\n",
              "    </tr>\n",
              "    <tr>\n",
              "      <th>...</th>\n",
              "      <td>...</td>\n",
              "      <td>...</td>\n",
              "      <td>...</td>\n",
              "      <td>...</td>\n",
              "      <td>...</td>\n",
              "      <td>...</td>\n",
              "      <td>...</td>\n",
              "      <td>...</td>\n",
              "      <td>...</td>\n",
              "      <td>...</td>\n",
              "    </tr>\n",
              "    <tr>\n",
              "      <th>21499</th>\n",
              "      <td>10193</td>\n",
              "      <td>zeeman, p</td>\n",
              "      <td>1902</td>\n",
              "      <td>The Effect of Magnetisation on the Nature of L...</td>\n",
              "      <td>1897.0</td>\n",
              "      <td>NaN</td>\n",
              "      <td>NaN</td>\n",
              "      <td>NaN</td>\n",
              "      <td>NaN</td>\n",
              "      <td>YES</td>\n",
              "    </tr>\n",
              "    <tr>\n",
              "      <th>21500</th>\n",
              "      <td>10193</td>\n",
              "      <td>zeeman, p</td>\n",
              "      <td>1902</td>\n",
              "      <td>The Influence of a Magnetic Field on Radiation...</td>\n",
              "      <td>1896.0</td>\n",
              "      <td>NaN</td>\n",
              "      <td>NaN</td>\n",
              "      <td>NaN</td>\n",
              "      <td>NaN</td>\n",
              "      <td>YES</td>\n",
              "    </tr>\n",
              "    <tr>\n",
              "      <th>21501</th>\n",
              "      <td>10193</td>\n",
              "      <td>zeeman, p</td>\n",
              "      <td>1902</td>\n",
              "      <td>zur hyperfeinstruktur des wismuts</td>\n",
              "      <td>1930.0</td>\n",
              "      <td>2.058955e+09</td>\n",
              "      <td>10.1007/BF01397521</td>\n",
              "      <td>european physical journal</td>\n",
              "      <td>NaN</td>\n",
              "      <td>NO</td>\n",
              "    </tr>\n",
              "    <tr>\n",
              "      <th>21502</th>\n",
              "      <td>10193</td>\n",
              "      <td>zeeman, p</td>\n",
              "      <td>1902</td>\n",
              "      <td>on the spectrum of ionised potassium in connex...</td>\n",
              "      <td>1924.0</td>\n",
              "      <td>2.013742e+09</td>\n",
              "      <td>10.1038/114352a0</td>\n",
              "      <td>nature</td>\n",
              "      <td>university of amsterdam</td>\n",
              "      <td>NO</td>\n",
              "    </tr>\n",
              "    <tr>\n",
              "      <th>21503</th>\n",
              "      <td>10193</td>\n",
              "      <td>zeeman, p</td>\n",
              "      <td>1902</td>\n",
              "      <td>on a connexion between the spectra of argon an...</td>\n",
              "      <td>1925.0</td>\n",
              "      <td>2.033830e+09</td>\n",
              "      <td>10.1038/115116b0</td>\n",
              "      <td>nature</td>\n",
              "      <td>university of amsterdam</td>\n",
              "      <td>NO</td>\n",
              "    </tr>\n",
              "  </tbody>\n",
              "</table>\n",
              "<p>21504 rows × 10 columns</p>\n",
              "</div>\n",
              "    <div class=\"colab-df-buttons\">\n",
              "\n",
              "  <div class=\"colab-df-container\">\n",
              "    <button class=\"colab-df-convert\" onclick=\"convertToInteractive('df-15a7cfef-bf6c-4f5f-9930-1d3fe44e209e')\"\n",
              "            title=\"Convert this dataframe to an interactive table.\"\n",
              "            style=\"display:none;\">\n",
              "\n",
              "  <svg xmlns=\"http://www.w3.org/2000/svg\" height=\"24px\" viewBox=\"0 -960 960 960\">\n",
              "    <path d=\"M120-120v-720h720v720H120Zm60-500h600v-160H180v160Zm220 220h160v-160H400v160Zm0 220h160v-160H400v160ZM180-400h160v-160H180v160Zm440 0h160v-160H620v160ZM180-180h160v-160H180v160Zm440 0h160v-160H620v160Z\"/>\n",
              "  </svg>\n",
              "    </button>\n",
              "\n",
              "  <style>\n",
              "    .colab-df-container {\n",
              "      display:flex;\n",
              "      gap: 12px;\n",
              "    }\n",
              "\n",
              "    .colab-df-convert {\n",
              "      background-color: #E8F0FE;\n",
              "      border: none;\n",
              "      border-radius: 50%;\n",
              "      cursor: pointer;\n",
              "      display: none;\n",
              "      fill: #1967D2;\n",
              "      height: 32px;\n",
              "      padding: 0 0 0 0;\n",
              "      width: 32px;\n",
              "    }\n",
              "\n",
              "    .colab-df-convert:hover {\n",
              "      background-color: #E2EBFA;\n",
              "      box-shadow: 0px 1px 2px rgba(60, 64, 67, 0.3), 0px 1px 3px 1px rgba(60, 64, 67, 0.15);\n",
              "      fill: #174EA6;\n",
              "    }\n",
              "\n",
              "    .colab-df-buttons div {\n",
              "      margin-bottom: 4px;\n",
              "    }\n",
              "\n",
              "    [theme=dark] .colab-df-convert {\n",
              "      background-color: #3B4455;\n",
              "      fill: #D2E3FC;\n",
              "    }\n",
              "\n",
              "    [theme=dark] .colab-df-convert:hover {\n",
              "      background-color: #434B5C;\n",
              "      box-shadow: 0px 1px 3px 1px rgba(0, 0, 0, 0.15);\n",
              "      filter: drop-shadow(0px 1px 2px rgba(0, 0, 0, 0.3));\n",
              "      fill: #FFFFFF;\n",
              "    }\n",
              "  </style>\n",
              "\n",
              "    <script>\n",
              "      const buttonEl =\n",
              "        document.querySelector('#df-15a7cfef-bf6c-4f5f-9930-1d3fe44e209e button.colab-df-convert');\n",
              "      buttonEl.style.display =\n",
              "        google.colab.kernel.accessAllowed ? 'block' : 'none';\n",
              "\n",
              "      async function convertToInteractive(key) {\n",
              "        const element = document.querySelector('#df-15a7cfef-bf6c-4f5f-9930-1d3fe44e209e');\n",
              "        const dataTable =\n",
              "          await google.colab.kernel.invokeFunction('convertToInteractive',\n",
              "                                                    [key], {});\n",
              "        if (!dataTable) return;\n",
              "\n",
              "        const docLinkHtml = 'Like what you see? Visit the ' +\n",
              "          '<a target=\"_blank\" href=https://colab.research.google.com/notebooks/data_table.ipynb>data table notebook</a>'\n",
              "          + ' to learn more about interactive tables.';\n",
              "        element.innerHTML = '';\n",
              "        dataTable['output_type'] = 'display_data';\n",
              "        await google.colab.output.renderOutput(dataTable, element);\n",
              "        const docLink = document.createElement('div');\n",
              "        docLink.innerHTML = docLinkHtml;\n",
              "        element.appendChild(docLink);\n",
              "      }\n",
              "    </script>\n",
              "  </div>\n",
              "\n",
              "\n",
              "<div id=\"df-71c117f8-f711-4417-bfca-6456b778924c\">\n",
              "  <button class=\"colab-df-quickchart\" onclick=\"quickchart('df-71c117f8-f711-4417-bfca-6456b778924c')\"\n",
              "            title=\"Suggest charts\"\n",
              "            style=\"display:none;\">\n",
              "\n",
              "<svg xmlns=\"http://www.w3.org/2000/svg\" height=\"24px\"viewBox=\"0 0 24 24\"\n",
              "     width=\"24px\">\n",
              "    <g>\n",
              "        <path d=\"M19 3H5c-1.1 0-2 .9-2 2v14c0 1.1.9 2 2 2h14c1.1 0 2-.9 2-2V5c0-1.1-.9-2-2-2zM9 17H7v-7h2v7zm4 0h-2V7h2v10zm4 0h-2v-4h2v4z\"/>\n",
              "    </g>\n",
              "</svg>\n",
              "  </button>\n",
              "\n",
              "<style>\n",
              "  .colab-df-quickchart {\n",
              "      --bg-color: #E8F0FE;\n",
              "      --fill-color: #1967D2;\n",
              "      --hover-bg-color: #E2EBFA;\n",
              "      --hover-fill-color: #174EA6;\n",
              "      --disabled-fill-color: #AAA;\n",
              "      --disabled-bg-color: #DDD;\n",
              "  }\n",
              "\n",
              "  [theme=dark] .colab-df-quickchart {\n",
              "      --bg-color: #3B4455;\n",
              "      --fill-color: #D2E3FC;\n",
              "      --hover-bg-color: #434B5C;\n",
              "      --hover-fill-color: #FFFFFF;\n",
              "      --disabled-bg-color: #3B4455;\n",
              "      --disabled-fill-color: #666;\n",
              "  }\n",
              "\n",
              "  .colab-df-quickchart {\n",
              "    background-color: var(--bg-color);\n",
              "    border: none;\n",
              "    border-radius: 50%;\n",
              "    cursor: pointer;\n",
              "    display: none;\n",
              "    fill: var(--fill-color);\n",
              "    height: 32px;\n",
              "    padding: 0;\n",
              "    width: 32px;\n",
              "  }\n",
              "\n",
              "  .colab-df-quickchart:hover {\n",
              "    background-color: var(--hover-bg-color);\n",
              "    box-shadow: 0 1px 2px rgba(60, 64, 67, 0.3), 0 1px 3px 1px rgba(60, 64, 67, 0.15);\n",
              "    fill: var(--button-hover-fill-color);\n",
              "  }\n",
              "\n",
              "  .colab-df-quickchart-complete:disabled,\n",
              "  .colab-df-quickchart-complete:disabled:hover {\n",
              "    background-color: var(--disabled-bg-color);\n",
              "    fill: var(--disabled-fill-color);\n",
              "    box-shadow: none;\n",
              "  }\n",
              "\n",
              "  .colab-df-spinner {\n",
              "    border: 2px solid var(--fill-color);\n",
              "    border-color: transparent;\n",
              "    border-bottom-color: var(--fill-color);\n",
              "    animation:\n",
              "      spin 1s steps(1) infinite;\n",
              "  }\n",
              "\n",
              "  @keyframes spin {\n",
              "    0% {\n",
              "      border-color: transparent;\n",
              "      border-bottom-color: var(--fill-color);\n",
              "      border-left-color: var(--fill-color);\n",
              "    }\n",
              "    20% {\n",
              "      border-color: transparent;\n",
              "      border-left-color: var(--fill-color);\n",
              "      border-top-color: var(--fill-color);\n",
              "    }\n",
              "    30% {\n",
              "      border-color: transparent;\n",
              "      border-left-color: var(--fill-color);\n",
              "      border-top-color: var(--fill-color);\n",
              "      border-right-color: var(--fill-color);\n",
              "    }\n",
              "    40% {\n",
              "      border-color: transparent;\n",
              "      border-right-color: var(--fill-color);\n",
              "      border-top-color: var(--fill-color);\n",
              "    }\n",
              "    60% {\n",
              "      border-color: transparent;\n",
              "      border-right-color: var(--fill-color);\n",
              "    }\n",
              "    80% {\n",
              "      border-color: transparent;\n",
              "      border-right-color: var(--fill-color);\n",
              "      border-bottom-color: var(--fill-color);\n",
              "    }\n",
              "    90% {\n",
              "      border-color: transparent;\n",
              "      border-bottom-color: var(--fill-color);\n",
              "    }\n",
              "  }\n",
              "</style>\n",
              "\n",
              "  <script>\n",
              "    async function quickchart(key) {\n",
              "      const quickchartButtonEl =\n",
              "        document.querySelector('#' + key + ' button');\n",
              "      quickchartButtonEl.disabled = true;  // To prevent multiple clicks.\n",
              "      quickchartButtonEl.classList.add('colab-df-spinner');\n",
              "      try {\n",
              "        const charts = await google.colab.kernel.invokeFunction(\n",
              "            'suggestCharts', [key], {});\n",
              "      } catch (error) {\n",
              "        console.error('Error during call to suggestCharts:', error);\n",
              "      }\n",
              "      quickchartButtonEl.classList.remove('colab-df-spinner');\n",
              "      quickchartButtonEl.classList.add('colab-df-quickchart-complete');\n",
              "    }\n",
              "    (() => {\n",
              "      let quickchartButtonEl =\n",
              "        document.querySelector('#df-71c117f8-f711-4417-bfca-6456b778924c button');\n",
              "      quickchartButtonEl.style.display =\n",
              "        google.colab.kernel.accessAllowed ? 'block' : 'none';\n",
              "    })();\n",
              "  </script>\n",
              "</div>\n",
              "    </div>\n",
              "  </div>\n"
            ],
            "application/vnd.google.colaboratory.intrinsic+json": {
              "type": "dataframe",
              "variable_name": "df",
              "summary": "{\n  \"name\": \"df\",\n  \"rows\": 21504,\n  \"fields\": [\n    {\n      \"column\": \"Laureate ID\",\n      \"properties\": {\n        \"dtype\": \"number\",\n        \"std\": 47,\n        \"min\": 10001,\n        \"max\": 10193,\n        \"num_unique_values\": 193,\n        \"samples\": [\n          10046,\n          10138,\n          10077\n        ],\n        \"semantic_type\": \"\",\n        \"description\": \"\"\n      }\n    },\n    {\n      \"column\": \"Laureate name\",\n      \"properties\": {\n        \"dtype\": \"category\",\n        \"num_unique_values\": 193,\n        \"samples\": [\n          \"veltman, m\",\n          \"lee, td\",\n          \"rohrer, h\"\n        ],\n        \"semantic_type\": \"\",\n        \"description\": \"\"\n      }\n    },\n    {\n      \"column\": \"Prize year\",\n      \"properties\": {\n        \"dtype\": \"number\",\n        \"std\": 22,\n        \"min\": 1902,\n        \"max\": 2016,\n        \"num_unique_values\": 103,\n        \"samples\": [\n          1986,\n          1949,\n          1954\n        ],\n        \"semantic_type\": \"\",\n        \"description\": \"\"\n      }\n    },\n    {\n      \"column\": \"Title\",\n      \"properties\": {\n        \"dtype\": \"string\",\n        \"num_unique_values\": 19630,\n        \"samples\": [\n          \"a physiological basis for a theory of synapse modification\",\n          \"erratum delay time statistics of superfluorescent pulses\",\n          \"quantum defects and specific isotopic shift measurements in ns and np highly excited states of lithium exchange effects between rydberg and core electrons\"\n        ],\n        \"semantic_type\": \"\",\n        \"description\": \"\"\n      }\n    },\n    {\n      \"column\": \"Pub year\",\n      \"properties\": {\n        \"dtype\": \"number\",\n        \"std\": 22.814486229416968,\n        \"min\": 1826.0,\n        \"max\": 2018.0,\n        \"num_unique_values\": 133,\n        \"samples\": [\n          2008.0,\n          1948.0,\n          2005.0\n        ],\n        \"semantic_type\": \"\",\n        \"description\": \"\"\n      }\n    },\n    {\n      \"column\": \"Paper ID\",\n      \"properties\": {\n        \"dtype\": \"number\",\n        \"std\": 252157710.8812683,\n        \"min\": 1376972.0,\n        \"max\": 2788704602.0,\n        \"num_unique_values\": 19868,\n        \"samples\": [\n          2094470020.0,\n          2049723054.0,\n          2012555773.0\n        ],\n        \"semantic_type\": \"\",\n        \"description\": \"\"\n      }\n    },\n    {\n      \"column\": \"DOI\",\n      \"properties\": {\n        \"dtype\": \"string\",\n        \"num_unique_values\": 19826,\n        \"samples\": [\n          \"10.1016/0039-6028(88)90763-7\",\n          \"10.1063/1.2808399\",\n          \"10.1002/jrs.1250260841\"\n        ],\n        \"semantic_type\": \"\",\n        \"description\": \"\"\n      }\n    },\n    {\n      \"column\": \"Journal\",\n      \"properties\": {\n        \"dtype\": \"category\",\n        \"num_unique_values\": 746,\n        \"samples\": [\n          \"quantum information processing\",\n          \"journal of microscopy\",\n          \"applied surface science\"\n        ],\n        \"semantic_type\": \"\",\n        \"description\": \"\"\n      }\n    },\n    {\n      \"column\": \"Affiliation\",\n      \"properties\": {\n        \"dtype\": \"category\",\n        \"num_unique_values\": 161,\n        \"samples\": [\n          \"university of zurich\",\n          \"solid state physics laboratory\",\n          \"ithaca college\"\n        ],\n        \"semantic_type\": \"\",\n        \"description\": \"\"\n      }\n    },\n    {\n      \"column\": \"Is prize-winning paper\",\n      \"properties\": {\n        \"dtype\": \"category\",\n        \"num_unique_values\": 2,\n        \"samples\": [\n          \"NO\",\n          \"YES\"\n        ],\n        \"semantic_type\": \"\",\n        \"description\": \"\"\n      }\n    }\n  ]\n}"
            }
          },
          "metadata": {},
          "execution_count": 7
        }
      ]
    },
    {
      "cell_type": "code",
      "source": [
        "# Показать первые n строк датафрейма\n",
        "df.head(3)"
      ],
      "metadata": {
        "id": "PhQGoGuO_XSL"
      },
      "execution_count": null,
      "outputs": []
    },
    {
      "cell_type": "code",
      "source": [
        "# Показать последние n строк датафрейма\n",
        "df.tail(5)"
      ],
      "metadata": {
        "id": "GSGdJ0WW_cH-"
      },
      "execution_count": null,
      "outputs": []
    },
    {
      "cell_type": "code",
      "source": [
        "# Размерность датафрейма\n",
        "df.shape"
      ],
      "metadata": {
        "id": "KesWC4CZ_c6K"
      },
      "execution_count": null,
      "outputs": []
    },
    {
      "cell_type": "code",
      "source": [
        "# Информация о датафрейме\n",
        "df.info()"
      ],
      "metadata": {
        "id": "BByGbMla_jDW"
      },
      "execution_count": null,
      "outputs": []
    },
    {
      "cell_type": "code",
      "source": [
        "# Получаем названия колонок\n",
        "df.columns"
      ],
      "metadata": {
        "id": "ANfPKVDd6hcK"
      },
      "execution_count": null,
      "outputs": []
    },
    {
      "cell_type": "code",
      "source": [
        "# Переименовываем названия колонок\n",
        "df.rename(columns={\n",
        "    'Laureate ID': 'laureate_id',\n",
        "    'Laureate name': 'laureate_name',\n",
        "    'Prize year': 'prize_year',\n",
        "    'Title': 'title',\n",
        "    'Pub year': 'pub_year',\n",
        "    'Paper ID': 'paper_id',\n",
        "    'DOI': 'doi',\n",
        "    'Journal': 'journal',\n",
        "    'Affiliation': 'affiliation',\n",
        "    'Is prize-winning paper': 'is_prize_winning_paper'\n",
        "})"
      ],
      "metadata": {
        "id": "ixx_Hr0B6lDx"
      },
      "execution_count": null,
      "outputs": []
    },
    {
      "cell_type": "code",
      "source": [
        "# Переименовываем названия колонок с лямбда функцией\n",
        "df.rename(columns=lambda x: x.replace(\" \", \"_\").replace(\"-\", \"_\").lower())"
      ],
      "metadata": {
        "id": "MEfxj0Zr_UaF"
      },
      "execution_count": null,
      "outputs": []
    },
    {
      "cell_type": "code",
      "source": [
        "df.rename(columns=lambda x: x.replace(\" \", \"_\").replace(\"-\", \"_\").lower(),\n",
        "          inplace=True)"
      ],
      "metadata": {
        "id": "Oh_NQuk75jXB"
      },
      "execution_count": null,
      "outputs": []
    },
    {
      "cell_type": "code",
      "source": [
        "df.head(5)"
      ],
      "metadata": {
        "id": "itqVTcNmBGeS"
      },
      "execution_count": null,
      "outputs": []
    },
    {
      "cell_type": "code",
      "source": [
        "df.info()"
      ],
      "metadata": {
        "id": "PLYIcnEJBM_t"
      },
      "execution_count": null,
      "outputs": []
    },
    {
      "cell_type": "code",
      "source": [
        "df.paper_id.astype(\"int\")"
      ],
      "metadata": {
        "id": "X7EHHMOl5ula"
      },
      "execution_count": null,
      "outputs": []
    },
    {
      "cell_type": "code",
      "source": [
        "df.paper_id.fillna(0, inplace=True)"
      ],
      "metadata": {
        "id": "ZU1a88Ds5uEb"
      },
      "execution_count": null,
      "outputs": []
    },
    {
      "cell_type": "code",
      "source": [
        "df.paper_id = df.paper_id.astype(\"int\")"
      ],
      "metadata": {
        "id": "wkpeE32V5tiE"
      },
      "execution_count": null,
      "outputs": []
    },
    {
      "cell_type": "code",
      "source": [
        "df.head(5)"
      ],
      "metadata": {
        "id": "2Cp7A9xFvot7"
      },
      "execution_count": null,
      "outputs": []
    },
    {
      "cell_type": "code",
      "source": [
        "df.dropna(subset=['pub_year'], inplace=True)"
      ],
      "metadata": {
        "id": "oxrR8cn3QJtf"
      },
      "execution_count": null,
      "outputs": []
    },
    {
      "cell_type": "code",
      "source": [
        "df.info()"
      ],
      "metadata": {
        "id": "CGL9-M9EqZEP"
      },
      "execution_count": null,
      "outputs": []
    },
    {
      "cell_type": "code",
      "source": [
        "# Преобразуем в datetime формат\n",
        "df.prize_year = pd.to_datetime(df.prize_year, format=\"%Y\")\n",
        "df.pub_year = pd.to_datetime(df.pub_year, format=\"%Y\")"
      ],
      "metadata": {
        "id": "E_HNUg-hqcby"
      },
      "execution_count": null,
      "outputs": []
    },
    {
      "cell_type": "code",
      "source": [
        "df.head(5)"
      ],
      "metadata": {
        "id": "mw9lL8ecPvr5"
      },
      "execution_count": null,
      "outputs": []
    },
    {
      "cell_type": "code",
      "source": [
        "df.info()"
      ],
      "metadata": {
        "id": "zuUCe2CyDc6r"
      },
      "execution_count": null,
      "outputs": []
    },
    {
      "cell_type": "code",
      "source": [
        "df.head(5)"
      ],
      "metadata": {
        "id": "RwzAjw8qEmyy"
      },
      "execution_count": null,
      "outputs": []
    },
    {
      "cell_type": "code",
      "source": [
        "df.is_prize_winning_paper == \"YES\""
      ],
      "metadata": {
        "id": "QyKqifMYEtuT"
      },
      "execution_count": null,
      "outputs": []
    },
    {
      "cell_type": "code",
      "source": [
        "# Приводим is_prize_winner_paper к типу bool\n",
        "df.is_prize_winning_paper = df.is_prize_winning_paper == \"YES\""
      ],
      "metadata": {
        "id": "N_hpDsH1EzzT"
      },
      "execution_count": null,
      "outputs": []
    },
    {
      "cell_type": "code",
      "source": [
        "df.head(5)"
      ],
      "metadata": {
        "id": "AX3sTxNcPyAE"
      },
      "execution_count": null,
      "outputs": []
    },
    {
      "cell_type": "code",
      "source": [
        "df.info()"
      ],
      "metadata": {
        "id": "bxIoqfS3E_VI"
      },
      "execution_count": null,
      "outputs": []
    },
    {
      "cell_type": "code",
      "source": [
        "df.fillna(' ', inplace=True)"
      ],
      "metadata": {
        "id": "LvnBI-_9E8Ut"
      },
      "execution_count": null,
      "outputs": []
    },
    {
      "cell_type": "code",
      "source": [
        "df.info()"
      ],
      "metadata": {
        "id": "-1y4NkfWYndc"
      },
      "execution_count": null,
      "outputs": []
    },
    {
      "cell_type": "markdown",
      "source": [
        "## Анализ данных с помощью Pandas"
      ],
      "metadata": {
        "id": "tPh6MDLaYoFK"
      }
    },
    {
      "cell_type": "code",
      "source": [
        "df.describe()"
      ],
      "metadata": {
        "id": "7TFW-6hnPM4G"
      },
      "execution_count": null,
      "outputs": []
    },
    {
      "cell_type": "code",
      "source": [
        "#df.pub_year.astype(\"int\").hist()\n",
        "df.pub_year.hist(bins=100)"
      ],
      "metadata": {
        "id": "Cq0mtUbG5m2h"
      },
      "execution_count": null,
      "outputs": []
    },
    {
      "cell_type": "code",
      "source": [
        "df.pub_year.value_counts(bins=2)"
      ],
      "metadata": {
        "id": "mu8jMCstsmxh"
      },
      "execution_count": null,
      "outputs": []
    },
    {
      "cell_type": "code",
      "source": [
        "# Количество людей, получивших Нобелевскую премию\n",
        "df.laureate_name.nunique()"
      ],
      "metadata": {
        "id": "yi-Vp-3K86rh"
      },
      "execution_count": null,
      "outputs": []
    },
    {
      "cell_type": "code",
      "source": [
        "prize_winners = df[df.is_prize_winning_paper]\n",
        "prize_winners.head(5)"
      ],
      "metadata": {
        "id": "A3lVL7R19P6g"
      },
      "execution_count": null,
      "outputs": []
    },
    {
      "cell_type": "code",
      "source": [
        "prize_winners.info()"
      ],
      "metadata": {
        "id": "so_6FU61uI33"
      },
      "execution_count": null,
      "outputs": []
    },
    {
      "cell_type": "code",
      "source": [
        "prize_winners[prize_winners.prize_year > pd.Timestamp(2000,1,1)].shape"
      ],
      "metadata": {
        "id": "zo1j2XhXti2E"
      },
      "execution_count": null,
      "outputs": []
    },
    {
      "cell_type": "code",
      "source": [
        "prize_winners[prize_winners.prize_year <= pd.Timestamp(2000,1,1)].shape"
      ],
      "metadata": {
        "id": "FLlAZux7uG7w"
      },
      "execution_count": null,
      "outputs": []
    },
    {
      "cell_type": "code",
      "source": [
        "df.loc[(df.laureate_name == 'thouless, dj') & (df.is_prize_winning_paper)]"
      ],
      "metadata": {
        "id": "tj-X6giJV5MV"
      },
      "execution_count": null,
      "outputs": []
    },
    {
      "cell_type": "code",
      "source": [
        "df.loc[((df.laureate_name == 'thouless, dj') | (df.laureate_name == 'haldane, fdm')) & (df.is_prize_winning_paper)]"
      ],
      "metadata": {
        "id": "bOMkds8FWU10"
      },
      "execution_count": null,
      "outputs": []
    },
    {
      "cell_type": "code",
      "source": [
        "df.iloc[305]"
      ],
      "metadata": {
        "id": "pli8kPjxWj0F"
      },
      "execution_count": null,
      "outputs": []
    },
    {
      "cell_type": "code",
      "source": [
        "th_df = df.iloc[[305, 217]]"
      ],
      "metadata": {
        "id": "WoM3XaRcWu61"
      },
      "execution_count": null,
      "outputs": []
    },
    {
      "cell_type": "code",
      "source": [
        "th_df"
      ],
      "metadata": {
        "id": "3yR37osmXGsA"
      },
      "execution_count": null,
      "outputs": []
    },
    {
      "cell_type": "code",
      "source": [
        "th_df['new_laureate_id'] = (th_df.laureate_id - 10000) * 20"
      ],
      "metadata": {
        "id": "UH9bhQ-zXH0Y"
      },
      "execution_count": null,
      "outputs": []
    },
    {
      "cell_type": "code",
      "source": [
        "th_df"
      ],
      "metadata": {
        "id": "0MqytvHPXg1P"
      },
      "execution_count": null,
      "outputs": []
    },
    {
      "cell_type": "code",
      "source": [
        "prize_winners.info()"
      ],
      "metadata": {
        "id": "1flzUSs-R4P1"
      },
      "execution_count": null,
      "outputs": []
    },
    {
      "cell_type": "code",
      "source": [
        "prize_winners.laureate_name.value_counts().hist()"
      ],
      "metadata": {
        "id": "FsDJwWfK9QMK"
      },
      "execution_count": null,
      "outputs": []
    },
    {
      "cell_type": "code",
      "source": [
        "papers_stat = df.groupby(\"laureate_name\").aggregate({\"paper_id\": \"count\"}).sort_values(\"paper_id\", ascending=False).rename(columns={'paper_id': \"n_papers\"})"
      ],
      "metadata": {
        "id": "0KUGuubkKBAm"
      },
      "execution_count": null,
      "outputs": []
    },
    {
      "cell_type": "code",
      "source": [
        "papers_stat"
      ],
      "metadata": {
        "id": "eY7lUDNCugt8"
      },
      "execution_count": null,
      "outputs": []
    },
    {
      "cell_type": "code",
      "source": [
        "papers_stat.plot.bar()"
      ],
      "metadata": {
        "id": "yY3cL5rtUkO_"
      },
      "execution_count": null,
      "outputs": []
    },
    {
      "cell_type": "code",
      "source": [
        "papers_stat.sum()"
      ],
      "metadata": {
        "id": "XIXlsHt-U-Sa"
      },
      "execution_count": null,
      "outputs": []
    },
    {
      "cell_type": "code",
      "source": [
        "papers_stat.mean()"
      ],
      "metadata": {
        "id": "LJ0d7wafVBv0"
      },
      "execution_count": null,
      "outputs": []
    },
    {
      "cell_type": "code",
      "source": [
        "papers_stat.median()"
      ],
      "metadata": {
        "id": "jw3iPDTNVFII"
      },
      "execution_count": null,
      "outputs": []
    },
    {
      "cell_type": "code",
      "source": [
        "papers_stat.describe()"
      ],
      "metadata": {
        "id": "q_RaJlioVJjp"
      },
      "execution_count": null,
      "outputs": []
    },
    {
      "cell_type": "code",
      "source": [
        "prize_winners.to_csv(\"prize_winners_papers_processed.csv\")"
      ],
      "metadata": {
        "id": "r8KNtGcoDJX4"
      },
      "execution_count": null,
      "outputs": []
    },
    {
      "cell_type": "code",
      "source": [],
      "metadata": {
        "id": "MVkvNTWOAL74"
      },
      "execution_count": null,
      "outputs": []
    }
  ]
}